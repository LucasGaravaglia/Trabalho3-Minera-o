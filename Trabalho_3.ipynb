{
  "nbformat": 4,
  "nbformat_minor": 0,
  "metadata": {
    "colab": {
      "name": "Trabalho_3.ipynb",
      "provenance": [],
      "collapsed_sections": [],
      "toc_visible": true
    },
    "kernelspec": {
      "name": "python3",
      "display_name": "Python 3"
    },
    "language_info": {
      "name": "python"
    }
  },
  "cells": [
    {
      "cell_type": "markdown",
      "source": [
        "# **Trabalho 3**"
      ],
      "metadata": {
        "id": "0u0wBaS8R2j0"
      }
    },
    {
      "cell_type": "markdown",
      "source": [
        "Todos os anos centenas de filmes são lançados no mundo todo por diversas produtoras que contam com orçamentos de todos os tamanhos, gerando uma indústria bilhonária. Nesse contexto, você como cientista da computação recém formado foi contratado para monitorar em tempo real as impressões da platéia por meio de posts em redes sociais.\n",
        "\n",
        "Basicamente o seu trabalho é monitorar as impressões positivas e negativas de um determinado filme, nos últimos dias (exemplo: 30 dias). Você poderá fazer isso lendo todas as postagens e interpretando cada uma como positiva ou negativa ou **usando** o conhecimento adquirido durante a graduação e, portanto, automatizar essa tarefa. **Faça a escolha correta** e automatize essa tarefa. \n",
        "\n",
        "Para auxiliar nessa tarefa, considere o dataset anterior e os conceitos estudados em sala de aula.\n",
        "\n",
        "Escolha três filmes* já lançados de sua preferência para conduzir essa análise. Lembre-se que seu trabalho é apresentar uma forma automática de entender impressões positivas e negativas sobre os filmes escolhidos a partir de posts em uma rede social (no caso, o Twitter).\n",
        "\n",
        "O que você precisa apresentar é:\n",
        "\n",
        "+ uma análise sobre os posts referentes aos filmes escolhidos (isto é, o notebbok contendo o código e comentado. Seja organizado). Por exemplo, espera-se que no mínimo você apresente um gráfico de impressões positivas e negativas sobre cada filme escolhido nos últimos **n** dias.\n",
        "\n",
        "+ fazer um vídeo de no máximo 5 minutos explicando as tuas principais estratégias.\n",
        "\n",
        "**Data de entrega:** 10 de agosto de 2022\n",
        "\n",
        "*Seja prudente na escolha dos filmes, de modo que haja comentários suficientes para a sua análise."
      ],
      "metadata": {
        "id": "5uyPj6tmR6OM"
      }
    },
    {
      "cell_type": "markdown",
      "source": [
        "## Dataset"
      ],
      "metadata": {
        "id": "iQE7qlxp0Myo"
      }
    },
    {
      "cell_type": "code",
      "execution_count": null,
      "metadata": {
        "id": "t3WyPlkVBdlq"
      },
      "outputs": [],
      "source": [
        "import pandas as pd\n",
        "import io\n",
        "import requests"
      ]
    },
    {
      "cell_type": "code",
      "source": [
        "s = requests.get('https://raw.githubusercontent.com/ragero/text-collections/master/complete_texts_csvs/review_polarity.csv').content\n",
        "\n",
        "dataset = pd.read_csv(io.StringIO(s.decode('utf-8')),\n",
        "                na_values=['?'],\n",
        "                skipinitialspace = True)\n",
        "dataset = dataset.sample(frac=1)\n",
        "dataset"
      ],
      "metadata": {
        "colab": {
          "base_uri": "https://localhost:8080/",
          "height": 424
        },
        "id": "oOzTtzvVBnYz",
        "outputId": "4b43d0eb-df25-42fa-8446-6ade3cefe8ba"
      },
      "execution_count": null,
      "outputs": [
        {
          "output_type": "execute_result",
          "data": {
            "text/plain": [
              "            file_name                                               text class\n",
              "1641  cv281_23253.txt  while watching boiler room , i was constantly ...   pos\n",
              "1699   cv631_4967.txt  what surprises me most about the long-awaited ...   pos\n",
              "1591  cv580_14064.txt  this movie was one of the first american films...   pos\n",
              "236    cv338_9183.txt  wizards is an animated feature that begins wit...   neg\n",
              "227   cv974_24303.txt  long ago , films were constructed of strong di...   neg\n",
              "...               ...                                                ...   ...\n",
              "1346   cv797_6957.txt  i have seen several ( but not that many ) wood...   pos\n",
              "722   cv298_24487.txt  it's tough to be an aspiring superhero in cham...   neg\n",
              "673   cv477_23530.txt  the premise of the new james wong film , final...   neg\n",
              "359   cv212_10054.txt  capsule : not as bad a sequel as crow 2 or bat...   neg\n",
              "117   cv711_12687.txt  some movies ask you to leave your brain at the...   neg\n",
              "\n",
              "[2000 rows x 3 columns]"
            ],
            "text/html": [
              "\n",
              "  <div id=\"df-cb23a808-4c82-48a6-9566-a72d5ae63d6b\">\n",
              "    <div class=\"colab-df-container\">\n",
              "      <div>\n",
              "<style scoped>\n",
              "    .dataframe tbody tr th:only-of-type {\n",
              "        vertical-align: middle;\n",
              "    }\n",
              "\n",
              "    .dataframe tbody tr th {\n",
              "        vertical-align: top;\n",
              "    }\n",
              "\n",
              "    .dataframe thead th {\n",
              "        text-align: right;\n",
              "    }\n",
              "</style>\n",
              "<table border=\"1\" class=\"dataframe\">\n",
              "  <thead>\n",
              "    <tr style=\"text-align: right;\">\n",
              "      <th></th>\n",
              "      <th>file_name</th>\n",
              "      <th>text</th>\n",
              "      <th>class</th>\n",
              "    </tr>\n",
              "  </thead>\n",
              "  <tbody>\n",
              "    <tr>\n",
              "      <th>1641</th>\n",
              "      <td>cv281_23253.txt</td>\n",
              "      <td>while watching boiler room , i was constantly ...</td>\n",
              "      <td>pos</td>\n",
              "    </tr>\n",
              "    <tr>\n",
              "      <th>1699</th>\n",
              "      <td>cv631_4967.txt</td>\n",
              "      <td>what surprises me most about the long-awaited ...</td>\n",
              "      <td>pos</td>\n",
              "    </tr>\n",
              "    <tr>\n",
              "      <th>1591</th>\n",
              "      <td>cv580_14064.txt</td>\n",
              "      <td>this movie was one of the first american films...</td>\n",
              "      <td>pos</td>\n",
              "    </tr>\n",
              "    <tr>\n",
              "      <th>236</th>\n",
              "      <td>cv338_9183.txt</td>\n",
              "      <td>wizards is an animated feature that begins wit...</td>\n",
              "      <td>neg</td>\n",
              "    </tr>\n",
              "    <tr>\n",
              "      <th>227</th>\n",
              "      <td>cv974_24303.txt</td>\n",
              "      <td>long ago , films were constructed of strong di...</td>\n",
              "      <td>neg</td>\n",
              "    </tr>\n",
              "    <tr>\n",
              "      <th>...</th>\n",
              "      <td>...</td>\n",
              "      <td>...</td>\n",
              "      <td>...</td>\n",
              "    </tr>\n",
              "    <tr>\n",
              "      <th>1346</th>\n",
              "      <td>cv797_6957.txt</td>\n",
              "      <td>i have seen several ( but not that many ) wood...</td>\n",
              "      <td>pos</td>\n",
              "    </tr>\n",
              "    <tr>\n",
              "      <th>722</th>\n",
              "      <td>cv298_24487.txt</td>\n",
              "      <td>it's tough to be an aspiring superhero in cham...</td>\n",
              "      <td>neg</td>\n",
              "    </tr>\n",
              "    <tr>\n",
              "      <th>673</th>\n",
              "      <td>cv477_23530.txt</td>\n",
              "      <td>the premise of the new james wong film , final...</td>\n",
              "      <td>neg</td>\n",
              "    </tr>\n",
              "    <tr>\n",
              "      <th>359</th>\n",
              "      <td>cv212_10054.txt</td>\n",
              "      <td>capsule : not as bad a sequel as crow 2 or bat...</td>\n",
              "      <td>neg</td>\n",
              "    </tr>\n",
              "    <tr>\n",
              "      <th>117</th>\n",
              "      <td>cv711_12687.txt</td>\n",
              "      <td>some movies ask you to leave your brain at the...</td>\n",
              "      <td>neg</td>\n",
              "    </tr>\n",
              "  </tbody>\n",
              "</table>\n",
              "<p>2000 rows × 3 columns</p>\n",
              "</div>\n",
              "      <button class=\"colab-df-convert\" onclick=\"convertToInteractive('df-cb23a808-4c82-48a6-9566-a72d5ae63d6b')\"\n",
              "              title=\"Convert this dataframe to an interactive table.\"\n",
              "              style=\"display:none;\">\n",
              "        \n",
              "  <svg xmlns=\"http://www.w3.org/2000/svg\" height=\"24px\"viewBox=\"0 0 24 24\"\n",
              "       width=\"24px\">\n",
              "    <path d=\"M0 0h24v24H0V0z\" fill=\"none\"/>\n",
              "    <path d=\"M18.56 5.44l.94 2.06.94-2.06 2.06-.94-2.06-.94-.94-2.06-.94 2.06-2.06.94zm-11 1L8.5 8.5l.94-2.06 2.06-.94-2.06-.94L8.5 2.5l-.94 2.06-2.06.94zm10 10l.94 2.06.94-2.06 2.06-.94-2.06-.94-.94-2.06-.94 2.06-2.06.94z\"/><path d=\"M17.41 7.96l-1.37-1.37c-.4-.4-.92-.59-1.43-.59-.52 0-1.04.2-1.43.59L10.3 9.45l-7.72 7.72c-.78.78-.78 2.05 0 2.83L4 21.41c.39.39.9.59 1.41.59.51 0 1.02-.2 1.41-.59l7.78-7.78 2.81-2.81c.8-.78.8-2.07 0-2.86zM5.41 20L4 18.59l7.72-7.72 1.47 1.35L5.41 20z\"/>\n",
              "  </svg>\n",
              "      </button>\n",
              "      \n",
              "  <style>\n",
              "    .colab-df-container {\n",
              "      display:flex;\n",
              "      flex-wrap:wrap;\n",
              "      gap: 12px;\n",
              "    }\n",
              "\n",
              "    .colab-df-convert {\n",
              "      background-color: #E8F0FE;\n",
              "      border: none;\n",
              "      border-radius: 50%;\n",
              "      cursor: pointer;\n",
              "      display: none;\n",
              "      fill: #1967D2;\n",
              "      height: 32px;\n",
              "      padding: 0 0 0 0;\n",
              "      width: 32px;\n",
              "    }\n",
              "\n",
              "    .colab-df-convert:hover {\n",
              "      background-color: #E2EBFA;\n",
              "      box-shadow: 0px 1px 2px rgba(60, 64, 67, 0.3), 0px 1px 3px 1px rgba(60, 64, 67, 0.15);\n",
              "      fill: #174EA6;\n",
              "    }\n",
              "\n",
              "    [theme=dark] .colab-df-convert {\n",
              "      background-color: #3B4455;\n",
              "      fill: #D2E3FC;\n",
              "    }\n",
              "\n",
              "    [theme=dark] .colab-df-convert:hover {\n",
              "      background-color: #434B5C;\n",
              "      box-shadow: 0px 1px 3px 1px rgba(0, 0, 0, 0.15);\n",
              "      filter: drop-shadow(0px 1px 2px rgba(0, 0, 0, 0.3));\n",
              "      fill: #FFFFFF;\n",
              "    }\n",
              "  </style>\n",
              "\n",
              "      <script>\n",
              "        const buttonEl =\n",
              "          document.querySelector('#df-cb23a808-4c82-48a6-9566-a72d5ae63d6b button.colab-df-convert');\n",
              "        buttonEl.style.display =\n",
              "          google.colab.kernel.accessAllowed ? 'block' : 'none';\n",
              "\n",
              "        async function convertToInteractive(key) {\n",
              "          const element = document.querySelector('#df-cb23a808-4c82-48a6-9566-a72d5ae63d6b');\n",
              "          const dataTable =\n",
              "            await google.colab.kernel.invokeFunction('convertToInteractive',\n",
              "                                                     [key], {});\n",
              "          if (!dataTable) return;\n",
              "\n",
              "          const docLinkHtml = 'Like what you see? Visit the ' +\n",
              "            '<a target=\"_blank\" href=https://colab.research.google.com/notebooks/data_table.ipynb>data table notebook</a>'\n",
              "            + ' to learn more about interactive tables.';\n",
              "          element.innerHTML = '';\n",
              "          dataTable['output_type'] = 'display_data';\n",
              "          await google.colab.output.renderOutput(dataTable, element);\n",
              "          const docLink = document.createElement('div');\n",
              "          docLink.innerHTML = docLinkHtml;\n",
              "          element.appendChild(docLink);\n",
              "        }\n",
              "      </script>\n",
              "    </div>\n",
              "  </div>\n",
              "  "
            ]
          },
          "metadata": {},
          "execution_count": 2
        }
      ]
    },
    {
      "cell_type": "markdown",
      "source": [
        "# Material suplementar"
      ],
      "metadata": {
        "id": "HPCLEafNWk5d"
      }
    },
    {
      "cell_type": "markdown",
      "source": [
        "## BERT"
      ],
      "metadata": {
        "id": "Ke-DXi0i-Wg4"
      }
    },
    {
      "cell_type": "code",
      "source": [
        "!pip install ktrain\n",
        "import keras\n",
        "import ktrain\n",
        "from ktrain import text"
      ],
      "metadata": {
        "id": "6eLcv9zW-VqX"
      },
      "execution_count": null,
      "outputs": []
    },
    {
      "cell_type": "markdown",
      "source": [
        "## Pré-processando"
      ],
      "metadata": {
        "id": "HFdhU-U4-Zwk"
      }
    },
    {
      "cell_type": "code",
      "source": [
        "(X_train, y_train), (X_test, y_test), preprocess = text.texts_from_df(dataset, \n",
        "                                                                   'text',\n",
        "                                                                   label_columns='class',\n",
        "                                                                   maxlen=64, \n",
        "                                                                   max_features=50000,\n",
        "                                                                   preprocess_mode='bert',\n",
        "                                                                   lang=None,\n",
        "                                                                   val_pct = 0.1,\n",
        "                                                                   )"
      ],
      "metadata": {
        "id": "OFWo51t8-p5E"
      },
      "execution_count": null,
      "outputs": []
    },
    {
      "cell_type": "code",
      "source": [
        "model = text.text_classifier('bert', (X_train, y_train) , preproc=preprocess)\n",
        "classifier = ktrain.get_learner(model, \n",
        "                             train_data=(X_train, y_train), \n",
        "                             val_data=(X_test, y_test),\n",
        "                             batch_size=64\n",
        "                             )"
      ],
      "metadata": {
        "colab": {
          "base_uri": "https://localhost:8080/"
        },
        "id": "Omxb016W-3s_",
        "outputId": "abc75ba7-24cf-46b6-8445-e121bf0f306d"
      },
      "execution_count": null,
      "outputs": [
        {
          "output_type": "stream",
          "name": "stdout",
          "text": [
            "Is Multi-Label? False\n",
            "maxlen is 64\n",
            "done.\n"
          ]
        }
      ]
    },
    {
      "cell_type": "code",
      "source": [
        "classifier.fit_onecycle(0.00002,1)"
      ],
      "metadata": {
        "colab": {
          "base_uri": "https://localhost:8080/"
        },
        "id": "N6zpKBhR_AN9",
        "outputId": "3305b53e-42cc-48dc-de45-42a2e78984ac"
      },
      "execution_count": null,
      "outputs": [
        {
          "output_type": "stream",
          "name": "stdout",
          "text": [
            "\n",
            "\n",
            "begin training using onecycle policy with max lr of 2e-05...\n",
            "29/29 [==============================] - 1331s 45s/step - loss: 0.7208 - accuracy: 0.5083 - val_loss: 0.6839 - val_accuracy: 0.5500\n"
          ]
        },
        {
          "output_type": "execute_result",
          "data": {
            "text/plain": [
              "<keras.callbacks.History at 0x7fd1d79a0690>"
            ]
          },
          "metadata": {},
          "execution_count": 7
        }
      ]
    },
    {
      "cell_type": "code",
      "source": [
        "classifier.validate()"
      ],
      "metadata": {
        "id": "1qvVCDjV_D0l"
      },
      "execution_count": null,
      "outputs": []
    },
    {
      "cell_type": "markdown",
      "source": [
        "## Aplicando a novos reviews"
      ],
      "metadata": {
        "id": "C8sIIcuB_P0W"
      }
    },
    {
      "cell_type": "code",
      "source": [
        "predictor = ktrain.get_predictor(classifier.model, preprocess)"
      ],
      "metadata": {
        "id": "khoAS5_O_Wd6"
      },
      "execution_count": null,
      "outputs": []
    },
    {
      "cell_type": "code",
      "source": [
        "predictor.predict('The worst movie I have ever seen in my life.')"
      ],
      "metadata": {
        "id": "siqLiuHt_av-"
      },
      "execution_count": null,
      "outputs": []
    },
    {
      "cell_type": "markdown",
      "source": [
        "## Libraries para coletar posts do twitter\n",
        "https://docs.tweepy.org/en/stable/index.html"
      ],
      "metadata": {
        "id": "16Zt0uENWlU5"
      }
    },
    {
      "cell_type": "code",
      "source": [
        "import tweepy\n",
        "import textblob\n",
        "import wordcloud"
      ],
      "metadata": {
        "id": "5lo-gsv6C0pj"
      },
      "execution_count": null,
      "outputs": []
    },
    {
      "cell_type": "code",
      "source": [
        "import pandas as pd\n",
        "import numpy as np\n",
        "import matplotlib.pyplot as plt\n",
        "import re                         \n",
        "plt.style.use('fivethirtyeight')"
      ],
      "metadata": {
        "id": "AGVkhPriW3Rq"
      },
      "execution_count": null,
      "outputs": []
    },
    {
      "cell_type": "markdown",
      "source": [
        "### Steps\n",
        "\n",
        " Para fazer a coleta você precisa ter uma conta de desenvolvedor do Twitter. Obter a conta de desenvolvedor do Twitter pode levar um ou dois dias (para criar sua conta [clique aqui](https://developer.twitter.com/en))\n",
        "\n",
        "Neste [link](https://medium.com/@dprakash05/twitter-sentiment-analysis-f81f3d24c795) tem um tutorial de como fazer isso."
      ],
      "metadata": {
        "id": "Emo_5Wk4W5aY"
      }
    },
    {
      "cell_type": "markdown",
      "source": [
        "### Grabbing some tweets\n",
        "Os próximos trechos de código foram obtidos deste [link](https://medium.com/@dprakash05/twitter-sentiment-analysis-f81f3d24c795)"
      ],
      "metadata": {
        "id": "e90SdM84W9Nl"
      }
    },
    {
      "cell_type": "markdown",
      "source": [
        "### Setup account"
      ],
      "metadata": {
        "id": "j0zsoGfVXBNi"
      }
    },
    {
      "cell_type": "code",
      "source": [
        "log=pd.read_csv('colocar_suas_credenciais')\n",
        "consumerkey=log['key'][0]\n",
        "consumersecret=log['key'][1]\n",
        "accesstoken=log['key'][2]\n",
        "accesstokensecret=log['key'][3]"
      ],
      "metadata": {
        "id": "8IPGzUT_W6OG"
      },
      "execution_count": null,
      "outputs": []
    },
    {
      "cell_type": "code",
      "source": [
        "authenticate=tweepy.OAuthHandler(consumerkey,consumersecret)\n",
        "## set access token and access token secret\n",
        "authenticate.set_access_token(accesstoken, accesstokensecret)\n",
        "## create API object while passing in authentication information\n",
        "api=tweepy.API(authenticate, wait_on_rate_limit=True)"
      ],
      "metadata": {
        "id": "HGf8YpRkXGbP"
      },
      "execution_count": null,
      "outputs": []
    },
    {
      "cell_type": "code",
      "source": [
        "tweets = tweepy.Cursor(api.search_30_day,\n",
        "                              query='sea beast', \n",
        "                              #lang=\"en\",\n",
        "                              environment_name='prod').items(50)"
      ],
      "metadata": {
        "id": "A5LJ07MhXKh_"
      },
      "execution_count": null,
      "outputs": []
    },
    {
      "cell_type": "code",
      "source": [
        "list_tweets = [tweet for tweet in tweets]\n",
        "i = 1\n",
        "for tweet in list_tweets[:15]:    \n",
        "  print(str(i)+')'+tweet.text + '\\n' )\n",
        "  i+=1"
      ],
      "metadata": {
        "id": "8g9Jq647XLYT"
      },
      "execution_count": null,
      "outputs": []
    },
    {
      "cell_type": "markdown",
      "source": [
        "## **Notebook útil e bem interessante que pode ajudar no trabalho**\n",
        "https://colab.research.google.com/github/d2l-ai/d2l-en-colab/blob/master/chapter_natural-language-processing-applications/sentiment-analysis-and-dataset.ipynb"
      ],
      "metadata": {
        "id": "dE8SydlgedWc"
      }
    }
  ]
}